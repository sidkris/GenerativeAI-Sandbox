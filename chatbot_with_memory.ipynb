{
 "cells": [
  {
   "cell_type": "code",
   "execution_count": null,
   "metadata": {},
   "outputs": [],
   "source": [
    "import os \n",
    "import openai\n",
    "import json\n",
    "from dotenv import load_dotenv"
   ]
  },
  {
   "cell_type": "code",
   "execution_count": null,
   "metadata": {},
   "outputs": [],
   "source": [
    "openai.api_key = os.getenv(\"OPENAI_API_KEY\")"
   ]
  },
  {
   "cell_type": "code",
   "execution_count": null,
   "metadata": {},
   "outputs": [],
   "source": [
    "# parameters\n",
    "\n",
    "TEMPERATURE = 0.0\n",
    "MAX_TOKENS = 3500\n",
    "TOP_P = 1.0"
   ]
  },
  {
   "cell_type": "code",
   "execution_count": null,
   "metadata": {},
   "outputs": [],
   "source": [
    "SYSTEM_PROMPT = \"\"\"\n",
    "\n",
    "        You are an expert at games of chance / probabilities.\n",
    "\n",
    "\"\"\""
   ]
  },
  {
   "cell_type": "code",
   "execution_count": null,
   "metadata": {},
   "outputs": [],
   "source": [
    "USER_NAME = \"USER\"\n",
    "AI_NAME = \"AI EXPERT\"\n",
    "NEW_INTERACTION_DELIMITER = \"\\n\\n\""
   ]
  },
  {
   "cell_type": "code",
   "execution_count": null,
   "metadata": {},
   "outputs": [],
   "source": [
    "def query_gpt(prompt):\n",
    "\n",
    "    response = openai.Completion.create(\n",
    "        model = \"gpt-4\",\n",
    "        prompt = prompt,\n",
    "        temperature = TEMPERATURE,\n",
    "        max_tokens = MAX_TOKENS,\n",
    "        top_p = TOP_P\n",
    "    )\n",
    "\n",
    "    return response.choices[0].text.strip().strip(\"\\n\")"
   ]
  },
  {
   "cell_type": "code",
   "execution_count": null,
   "metadata": {},
   "outputs": [],
   "source": [
    "def get_system_prompt(sys_prompt = SYSTEM_PROMPT):\n",
    "\n",
    "    return [f\"SYSTEM PROMPT : {sys_prompt}\"]"
   ]
  },
  {
   "cell_type": "code",
   "execution_count": null,
   "metadata": {},
   "outputs": [],
   "source": [
    "def get_conversation(user_input, conversation):\n",
    "\n",
    "    if not conversation:\n",
    "        conversation = get_system_prompt()\n",
    "    user_input_string = f\"{USER_NAME} : {user_input}\"\n",
    "    response_trigger = f\"{AI_NAME} : \"\n",
    "    conversation.extend([user_input_string, response_trigger])\n",
    "\n",
    "    return conversation"
   ]
  },
  {
   "cell_type": "code",
   "execution_count": null,
   "metadata": {},
   "outputs": [],
   "source": []
  },
  {
   "cell_type": "code",
   "execution_count": null,
   "metadata": {},
   "outputs": [],
   "source": [
    "def get_response(user_input_string, conversation, use_simple_truncation, verbose):\n",
    "\n",
    "    conversation = get_conversation(user_input_string, conversation)\n",
    "\n",
    "    # try to prompt model and then catch if the prompt exceeds the attention window\n",
    "    first_try = True \n",
    "    attention_window_used_up = False\n",
    "\n",
    "    while first_try or attention_window_used_up:\n",
    "\n",
    "        flattened_conversation = NEW_INTERACTION_DELIMITER.join(conversation)\n",
    "\n",
    "        try:\n",
    "            first_try = False \n",
    "            response = query_gpt(flattened_conversation)\n",
    "            attention_window_used_up = False\n",
    "\n",
    "        except openai.InvalidRequestError as e:\n",
    "            attention_window_used_up = True \n",
    "\n",
    "            if verbose:\n",
    "                print(\"\\n*** ATTENTION WINDOW USED UP ***\\n\")\n",
    "                print(f\"\\nERROR : {e}\\n\")\n",
    "\n",
    "            if not conversation: \n",
    "                return [\n",
    "                    \"ERROR : SYSTEM PROMPT CONSUMING A SIGNIFICANT CHUNK OF WINDOW TOKENS..!\"\n",
    "                ]\n",
    "            \n",
    "            if use_simple_truncation:\n",
    "                conversation = conversation[1:]\n",
    "\n",
    "            else:\n",
    "                conversation = conversation[:1] + conversation[2:]\n",
    "\n",
    "    conversation[-1] += response \n",
    "\n",
    "    if verbose:\n",
    "        print(NEW_INTERACTION_DELIMITER.join(conversation))\n",
    "\n",
    "    else:\n",
    "        print(f\"{USER_NAME} : {user_input_string}\")\n",
    "        print(f\"{AI_NAME} : {response}\")\n",
    "\n",
    "    return conversation"
   ]
  },
  {
   "cell_type": "code",
   "execution_count": null,
   "metadata": {},
   "outputs": [],
   "source": [
    "def chat(user_query, conversation = [], use_simple_truncation = False, verbose = False):\n",
    "    \n",
    "    conversation = get_response(user_query, conversation, use_simple_truncation, verbose)\n",
    "\n",
    "    return conversation"
   ]
  },
  {
   "cell_type": "code",
   "execution_count": null,
   "metadata": {},
   "outputs": [],
   "source": [
    "# TESTING THE CHATBOT\n",
    "\n",
    "user_inputs = [\n",
    "    \"What card games have the best odds of winning?\",\n",
    "    \"what are the odds of winning?\",\n",
    "    \"What is the best possible hand that can be dealt in this game?\",\n",
    "    \"What is the game with the next best odds?\"\n",
    "]"
   ]
  },
  {
   "cell_type": "code",
   "execution_count": null,
   "metadata": {},
   "outputs": [],
   "source": [
    "conversation = []\n",
    "\n",
    "verbose = False\n",
    "\n",
    "simple_truncation = True \n",
    "\n",
    "for i, input in enumerate(user_inputs):\n",
    "\n",
    "    print(f\" *** CONVERSATION TURN {i} ***\")\n",
    "\n",
    "    conversation = chat(\n",
    "        user_inputs, conversation = conversation, use_simple_truncation = simple_truncation, verbose = verbose\n",
    "    )\n",
    "\n",
    "    print(conversation)"
   ]
  },
  {
   "cell_type": "code",
   "execution_count": null,
   "metadata": {},
   "outputs": [],
   "source": []
  }
 ],
 "metadata": {
  "kernelspec": {
   "display_name": "Python 3",
   "language": "python",
   "name": "python3"
  },
  "language_info": {
   "codemirror_mode": {
    "name": "ipython",
    "version": 3
   },
   "file_extension": ".py",
   "mimetype": "text/x-python",
   "name": "python",
   "nbconvert_exporter": "python",
   "pygments_lexer": "ipython3",
   "version": "3.11.6"
  }
 },
 "nbformat": 4,
 "nbformat_minor": 2
}
